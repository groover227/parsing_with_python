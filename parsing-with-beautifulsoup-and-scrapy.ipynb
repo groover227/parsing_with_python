{
 "cells": [
  {
   "cell_type": "code",
   "execution_count": 1,
   "metadata": {},
   "outputs": [],
   "source": [
    "#!pip install bs4"
   ]
  },
  {
   "cell_type": "markdown",
   "metadata": {},
   "source": [
    "Для начала рассмотрим парсинг HTML-документа вручную - через BeautifulSoup"
   ]
  },
  {
   "cell_type": "markdown",
   "metadata": {},
   "source": [
    "## BeautifulSoup простой пример парсинга HTML страницы"
   ]
  },
  {
   "cell_type": "markdown",
   "metadata": {},
   "source": [
    "#### Исходный код страницы:"
   ]
  },
  {
   "cell_type": "markdown",
   "metadata": {},
   "source": [
    "<!DOCTYPE html>\n",
    "<html>\n",
    "    <head>\n",
    "        <title>Header</title>\n",
    "        <meta charset=\"utf-8\">                   \n",
    "    </head>\n",
    "        \n",
    "    <body>\n",
    "        <h2>Operating systems</h2>\n",
    "        \n",
    "        <ul id=\"mylist\" style=\"width:150px\">\n",
    "            <li>Solaris</li>\n",
    "            <li>FreeBSD</li>\n",
    "            <li>Debian</li>                      \n",
    "            <li>NetBSD</li>           \n",
    "            <li>Windows</li>         \n",
    "        </ul>\n",
    "        \n",
    "        <p>\n",
    "          FreeBSD is an advanced computer operating system used to \n",
    "          power modern servers, desktops, and embedded platforms.\n",
    "        </p>\n",
    "                \n",
    "        <p>\n",
    "          Debian is a Unix-like computer operating system that is \n",
    "          composed entirely of free software.\n",
    "        </p>        \n",
    "        \n",
    "    </body>    \n",
    "</html>"
   ]
  },
  {
   "cell_type": "markdown",
   "metadata": {},
   "source": [
    "### Получим теги `h2`, `head`, `li`"
   ]
  },
  {
   "cell_type": "markdown",
   "metadata": {},
   "source": [
    "Здесь производится импорт класса BeautifulSoup из модуля bs4. Таким образом, BeautifulSoup является главным рабочим классом."
   ]
  },
  {
   "cell_type": "code",
   "execution_count": 2,
   "metadata": {},
   "outputs": [],
   "source": [
    "from bs4 import BeautifulSoup"
   ]
  },
  {
   "cell_type": "markdown",
   "metadata": {},
   "source": [
    "Открывается файл index.html и производится чтение его содержимого при помощи метода read()."
   ]
  },
  {
   "cell_type": "code",
   "execution_count": 3,
   "metadata": {},
   "outputs": [],
   "source": [
    "with open(\"index.html\", \"r\") as f:\n",
    "    \n",
    "    contents = f.read()"
   ]
  },
  {
   "cell_type": "markdown",
   "metadata": {},
   "source": [
    "Создается объект BeautifulSoup. Данные передаются конструктору. Вторая опция уточняет объект парсинга."
   ]
  },
  {
   "cell_type": "code",
   "execution_count": 4,
   "metadata": {},
   "outputs": [],
   "source": [
    "soup = BeautifulSoup(contents, 'lxml')"
   ]
  },
  {
   "cell_type": "markdown",
   "metadata": {},
   "source": [
    "Далее выводится HTML-код следующих двух тегов: h2 и head."
   ]
  },
  {
   "cell_type": "code",
   "execution_count": 5,
   "metadata": {},
   "outputs": [
    {
     "name": "stdout",
     "output_type": "stream",
     "text": [
      "<h2>Operating systems</h2>\n",
      "<head>\n",
      "<title>Header</title>\n",
      "<meta charset=\"utf-8\"/>\n",
      "</head>\n"
     ]
    }
   ],
   "source": [
    "print(soup.h2)\n",
    "print(soup.head)"
   ]
  },
  {
   "cell_type": "markdown",
   "metadata": {},
   "source": [
    "В примере много раз используются элементы li, однако выводится только первый из них."
   ]
  },
  {
   "cell_type": "code",
   "execution_count": 6,
   "metadata": {},
   "outputs": [
    {
     "name": "stdout",
     "output_type": "stream",
     "text": [
      "<li>Solaris</li>\n"
     ]
    }
   ],
   "source": [
    "print(soup.li)"
   ]
  },
  {
   "cell_type": "markdown",
   "metadata": {},
   "source": [
    "## BeautifulSoup теги, атрибуты `name` и `text`"
   ]
  },
  {
   "cell_type": "markdown",
   "metadata": {},
   "source": [
    "* Атрибут `name` указывает на название тега, а атрибут `text` указывает на его содержимое.\n",
    "* Код в примере позволяет вывести HTML-код, название и текст `h2` тега."
   ]
  },
  {
   "cell_type": "code",
   "execution_count": 7,
   "metadata": {},
   "outputs": [
    {
     "name": "stdout",
     "output_type": "stream",
     "text": [
      "HTML: <h2>Operating systems</h2>, name: h2, text: Operating systems\n"
     ]
    }
   ],
   "source": [
    "with open(\"index.html\", \"r\") as f:\n",
    "    \n",
    "    contents = f.read()\n",
    " \n",
    "    soup = BeautifulSoup(contents, 'lxml')\n",
    " \n",
    "    print(\"HTML: {0}, name: {1}, text: {2}\".format(soup.h2, \n",
    "        soup.h2.name, soup.h2.text))"
   ]
  },
  {
   "cell_type": "markdown",
   "metadata": {},
   "source": [
    "## BeautifulSoap перебираем HTML теги"
   ]
  },
  {
   "cell_type": "markdown",
   "metadata": {},
   "source": [
    "Метод `recursiveChildGenerator()` позволяет перебрать содержимое HTML-документа. Данный пример позволяет перебрать содержимое HTML-документа и вывести названия всех его тегов."
   ]
  },
  {
   "cell_type": "code",
   "execution_count": 8,
   "metadata": {},
   "outputs": [
    {
     "name": "stdout",
     "output_type": "stream",
     "text": [
      "html\n",
      "head\n",
      "title\n",
      "meta\n",
      "body\n",
      "h2\n",
      "ul\n",
      "li\n",
      "li\n",
      "li\n",
      "li\n",
      "li\n",
      "p\n",
      "p\n"
     ]
    }
   ],
   "source": [
    "with open(\"index.html\", \"r\") as f:\n",
    "    \n",
    "    contents = f.read()\n",
    " \n",
    "    soup = BeautifulSoup(contents, 'lxml')\n",
    "            \n",
    "    for child in soup.recursiveChildGenerator():\n",
    "        \n",
    "        if child.name:\n",
    "            \n",
    "            print(child.name)"
   ]
  },
  {
   "cell_type": "markdown",
   "metadata": {},
   "source": [
    "## BeautifulSoup атрибут `children` (получение дочерних элементов тега)"
   ]
  },
  {
   "cell_type": "code",
   "execution_count": 9,
   "metadata": {},
   "outputs": [
    {
     "name": "stdout",
     "output_type": "stream",
     "text": [
      "['head', 'body']\n"
     ]
    }
   ],
   "source": [
    "with open(\"index.html\", \"r\") as f:\n",
    "    \n",
    "    contents = f.read()\n",
    "\n",
    "    soup = BeautifulSoup(contents, 'lxml')\n",
    "\n",
    "    root = soup.html\n",
    "    \n",
    "    root_childs = [e.name for e in root.children if e.name is not None]\n",
    "    print(root_childs)"
   ]
  },
  {
   "cell_type": "markdown",
   "metadata": {},
   "source": [
    "В данном примере извлекаются дочерние элементы html тега, после чего они помещаются в список Python и выводятся в консоль. Так как атрибут children также убирает пробелы между тегами, необходимо добавить условие, которое позволяет выбирать только названия тегов."
   ]
  },
  {
   "cell_type": "markdown",
   "metadata": {},
   "source": [
    "## BeautifulSoup атрибут `descendants` (получение всех потомков рассматриваемого тега)"
   ]
  },
  {
   "cell_type": "code",
   "execution_count": 10,
   "metadata": {},
   "outputs": [
    {
     "name": "stdout",
     "output_type": "stream",
     "text": [
      "['h2', 'ul', 'li', 'li', 'li', 'li', 'li', 'p', 'p']\n"
     ]
    }
   ],
   "source": [
    "with open(\"index.html\", \"r\") as f:\n",
    "    \n",
    "    contents = f.read()\n",
    " \n",
    "    soup = BeautifulSoup(contents, 'lxml')\n",
    " \n",
    "    root = soup.body\n",
    "    \n",
    "    root_childs = [e.name for e in root.descendants if e.name is not None]\n",
    "    print(root_childs)"
   ]
  },
  {
   "cell_type": "markdown",
   "metadata": {},
   "source": [
    "Перечисленные выше теги являются потомками главного тега body."
   ]
  },
  {
   "cell_type": "markdown",
   "metadata": {},
   "source": [
    "## BeautifulSoup метод `find()`, поиск элементов по id\n"
   ]
  },
  {
   "cell_type": "code",
   "execution_count": 11,
   "metadata": {},
   "outputs": [
    {
     "name": "stdout",
     "output_type": "stream",
     "text": [
      "<ul id=\"mylist\" style=\"width:150px\">\n",
      "<li>Solaris</li>\n",
      "<li>FreeBSD</li>\n",
      "<li>Debian</li>\n",
      "<li>NetBSD</li>\n",
      "<li>Windows</li>\n",
      "</ul>\n"
     ]
    }
   ],
   "source": [
    "with open(\"index.html\", \"r\") as f:\n",
    "    \n",
    "    contents = f.read()\n",
    " \n",
    "    soup = BeautifulSoup(contents, 'lxml')\n",
    " \n",
    "    print(soup.find(\"ul\", id=\"mylist\"))"
   ]
  },
  {
   "cell_type": "markdown",
   "metadata": {},
   "source": [
    "Код в примере выше находит тег ul, у которого `id=mylist`"
   ]
  },
  {
   "cell_type": "markdown",
   "metadata": {},
   "source": [
    "## BeautifulSoup метод `find_all()` поиск всех тегов в HTML"
   ]
  },
  {
   "cell_type": "code",
   "execution_count": 12,
   "metadata": {},
   "outputs": [
    {
     "name": "stdout",
     "output_type": "stream",
     "text": [
      "li: Solaris\n",
      "li: FreeBSD\n",
      "li: Debian\n",
      "li: NetBSD\n",
      "li: Windows\n"
     ]
    }
   ],
   "source": [
    "with open(\"index.html\", \"r\") as f:\n",
    "    \n",
    "    contents = f.read()\n",
    " \n",
    "    soup = BeautifulSoup(contents, 'lxml')\n",
    " \n",
    "    for tag in soup.find_all(\"li\"):\n",
    "        print(\"{0}: {1}\".format(tag.name, tag.text))"
   ]
  },
  {
   "cell_type": "markdown",
   "metadata": {},
   "source": [
    "Код в примере выше позволяет найти и вывести на экран все li теги."
   ]
  },
  {
   "cell_type": "markdown",
   "metadata": {},
   "source": [
    "### BeautifulSoup методы `select()` и `select_one()` CSS селекторы\n",
    "При помощи методов select() и select_one() для нахождения запрашиваемых элементов можно использовать некоторые CSS селекторы."
   ]
  },
  {
   "cell_type": "code",
   "execution_count": 13,
   "metadata": {},
   "outputs": [
    {
     "name": "stdout",
     "output_type": "stream",
     "text": [
      "[<li>Debian</li>]\n"
     ]
    }
   ],
   "source": [
    "with open(\"index.html\", \"r\") as f:\n",
    "    \n",
    "    contents = f.read()\n",
    " \n",
    "    soup = BeautifulSoup(contents, 'lxml')\n",
    " \n",
    "    print(soup.select(\"li:nth-of-type(3)\"))"
   ]
  },
  {
   "cell_type": "markdown",
   "metadata": {},
   "source": [
    "В данном примере используется CSS селектор, который выводит на экран HTML-код третьего по счету элемента `li`."
   ]
  },
  {
   "cell_type": "code",
   "execution_count": 14,
   "metadata": {},
   "outputs": [
    {
     "name": "stdout",
     "output_type": "stream",
     "text": [
      "<ul id=\"mylist\" style=\"width:150px\">\n",
      "<li>Solaris</li>\n",
      "<li>FreeBSD</li>\n",
      "<li>Debian</li>\n",
      "<li>NetBSD</li>\n",
      "<li>Windows</li>\n",
      "</ul>\n"
     ]
    }
   ],
   "source": [
    "with open(\"index.html\", \"r\") as f:\n",
    "    \n",
    "    contents = f.read()\n",
    " \n",
    "    soup = BeautifulSoup(contents, 'lxml')\n",
    " \n",
    "    print(soup.select_one(\"#mylist\"))"
   ]
  },
  {
   "cell_type": "markdown",
   "metadata": {},
   "source": [
    "В данном примере выводятся элементы, которых есть id под названием `mylist`."
   ]
  },
  {
   "cell_type": "markdown",
   "metadata": {},
   "source": [
    "# Получим все ссылки с `google.com` с помощтю BeautifulSoup"
   ]
  },
  {
   "cell_type": "code",
   "execution_count": 15,
   "metadata": {},
   "outputs": [],
   "source": [
    "import requests #Используется для возможности подключения к сайту\n",
    "from bs4 import BeautifulSoup"
   ]
  },
  {
   "cell_type": "code",
   "execution_count": 16,
   "metadata": {},
   "outputs": [],
   "source": [
    "# Обманываем сайт, чтобы обойти защиту от парсинга.\n",
    "headers = requests.utils.default_headers()\n",
    "headers.update({ 'User-Agent': 'Mozilla/5.0 (X11; Ubuntu; Linux x86_64; rv:52.0) Gecko/20100101 Firefox/69.0'})"
   ]
  },
  {
   "cell_type": "code",
   "execution_count": 17,
   "metadata": {},
   "outputs": [
    {
     "name": "stdout",
     "output_type": "stream",
     "text": [
      "<!DOCTYPE html>\n",
      "<html itemscope=\"\" itemtype=\"http://schema.org/WebPage\" lang=\"ru\">\n",
      " <head>\n",
      "  <meta content=\"Поиск информации в интернете: веб страницы, картинки, видео и многое другое.\" name=\"description\"/>\n",
      "  <meta content=\"noodp\" name=\"robots\"/>\n",
      "  <meta content=\"text/html; charset=utf-8\" http-equiv=\"Content-Type\"/>\n",
      "  <meta content=\"/images/branding/googleg/1x/googleg_standard_color_128dp.png\" itemprop=\"image\"/>\n",
      "  <title>\n",
      "   Google\n",
      "  </title>\n",
      "  <script nonce=\"czqffbYxopmQBwCsZb/yeQ==\">\n",
      "   (function(){window.google={kEI:'lzzzXtHkK-CEk74P4uSh6AE',kEXPI:'0,202123,3,4,32,1151584,5663,731,223,755,4350,206,1245,1959,10,168,1058,364,921,4,574,576,241,383,246,5,1128,226,1162,160,5,367,2184,137,96,46,141,116,3,126,453,310,125,37,41,217,1122040,1197755,394,90,329028,1294,12383,4855,32692,15247,861,17450,11240,9188,8384,4859,1361,284,9006,3029,4739,1848,4720,4465,1808,4998,7931,5297,2054,920,873,1217,2975,6430,11306,3222,235,4281,2779,918,2277,8,85,2711,885,708,1279,2212,241,289,149,1103,840,517,1522,158,4100,312,1137,2,2669,1839,184,544,1753,1947,2229,93,328,1284,17,1987,939,2246,474,1339,1787,2273,1,953,2845,7,4808,7546,4455,641,602,1847,2459,1226,1742,3654,1275,108,591,2816,908,2,941,2614,2148,249,5419,2049,842,1337,1098,3,346,230,970,865,4,368,3546,707,148,189,2837,476,743,1299,47,399,28,2224,1496,3489,105,643,4,1528,17,264,2,90,328,594,1009,1228,8,271,874,405,252,1587,21,177,69,1274,906,608,233,917,9,43,713,703,1425,459,44,76,1081,141,213,1139,2184,744,254,1131,880,86,3,1493,237,1710,1266,69,2,92,491,343,1486,201,357,1443,269,460,282,1771,451,2,213,6,981,585,404,243,353,67,259,1,3,1,80,108,91,199,862,356,146,753,137,498,74,330,1110,283,282,125,341,80,142,294,137,196,2,5798146,3477,12,8798427,549,333,444,1,2,80,1,900,896,1,8,1,2,2551,1,748,200,736,4,559,1,4265,1,1,1,1,137,1,879,9,305,1356,97,1280,17,5,3,6,4,10,6,8,50,16,2,52,20741472,3220019,2682734,10975',kBL:'tdrq'};google.sn='webhp';google.kHL='ru';})();(function(){google.lc=[];google.li=0;google.getEI=function(a){for(var c;a&&(!a.getAttribute||!(c=a.getAttribute(\"eid\")));)a=a.parentNode;return c||google.kEI};google.getLEI=function(a){for(var c=null;a&&(!a.getAttribute||!(c=a.getAttribute(\"leid\")));)a=a.parentNode;return c};google.ml=function(){return null};google.time=function(){return Date.now()};google.log=function(a,c,b,d,g){if(b=google.logUrl(a,c,b,d,g)){a=new Image;var e=google.lc,f=google.li;e[f]=a;a.onerror=a.onload=a.onabort=function(){delete e[f]};google.vel&&google.vel.lu&&google.vel.lu(b);a.src=b;google.li=f+1}};google.logUrl=function(a,c,b,d,g){var e=\"\",f=google.ls||\"\";b||-1!=c.search(\"&ei=\")||(e=\"&ei=\"+google.getEI(d),-1==c.search(\"&lei=\")&&(d=google.getLEI(d))&&(e+=\"&lei=\"+d));d=\"\";!b&&google.cshid&&-1==c.search(\"&cshid=\")&&\"slh\"!=a&&(d=\"&cshid=\"+google.cshid);b=b||\"/\"+(g||\"gen_204\")+\"?atyp=i&ct=\"+a+\"&cad=\"+c+e+f+\"&zx=\"+google.time()+d;/^http:/i.test(b)&&\"https:\"==window.location.protocol&&(google.ml(Error(\"a\"),!1,{src:b,glmm:1}),b=\"\");return b};}).call(this);(function(){google.y={};google.x=function(a,b){if(a)var c=a.id;else{do c=Math.random();while(google.y[c])}google.y[c]=[a,b];return!1};google.lm=[];google.plm=function(a){google.lm.push.apply(google.lm,a)};google.lq=[];google.load=function(a,b,c){google.lq.push([[a],b,c])};google.loadAll=function(a,b){google.lq.push([a,b])};}).call(this);google.f={};(function(){\n",
      "document.documentElement.addEventListener(\"submit\",function(b){var a;if(a=b.target){var c=a.getAttribute(\"data-submitfalse\");a=\"1\"==c||\"q\"==c&&!a.elements.q.value?!0:!1}else a=!1;a&&(b.preventDefault(),b.stopPropagation())},!0);document.documentElement.addEventListener(\"click\",function(b){var a;a:{for(a=b.target;a&&a!=document.documentElement;a=a.parentElement)if(\"A\"==a.tagName){a=\"1\"==a.getAttribute(\"data-nohref\");break a}a=!1}a&&b.preventDefault()},!0);}).call(this);\n",
      "var a=window.location,b=a.href.indexOf(\"#\");if(0<=b){var c=a.href.substring(b+1);/(^|&)q=/.test(c)&&-1==c.indexOf(\"#\")&&a.replace(\"/search?\"+c.replace(/(^|&)fp=[^&]*/g,\"\")+\"&cad=h\")};\n",
      "  </script>\n",
      "  <style>\n",
      "   #gbar,#guser{font-size:13px;padding-top:1px !important;}#gbar{height:22px}#guser{padding-bottom:7px !important;text-align:right}.gbh,.gbd{border-top:1px solid #c9d7f1;font-size:1px}.gbh{height:0;position:absolute;top:24px;width:100%}@media all{.gb1{height:22px;margin-right:.5em;vertical-align:top}#gbar{float:left}}a.gb1,a.gb4{text-decoration:underline !important}a.gb1,a.gb4{color:#00c !important}.gbi .gb4{color:#dd8e27 !important}.gbf .gb4{color:#900 !important}\n",
      "  </style>\n",
      "  <style>\n",
      "   body,td,a,p,.h{font-family:arial,sans-serif}body{margin:0;overflow-y:scroll}#gog{padding:3px 8px 0}td{line-height:.8em}.gac_m td{line-height:17px}form{margin-bottom:20px}.h{color:#36c}.q{color:#00c}.ts td{padding:0}.ts{border-collapse:collapse}em{font-weight:bold;font-style:normal}.lst{height:25px;width:496px}.gsfi,.lst{font:18px arial,sans-serif}.gsfs{font:17px arial,sans-serif}.ds{display:inline-box;display:inline-block;margin:3px 0 4px;margin-left:4px}input{font-family:inherit}body{background:#fff;color:#000}a{color:#11c;text-decoration:none}a:hover,a:active{text-decoration:underline}.fl a{color:#36c}a:visited{color:#551a8b}.sblc{padding-top:5px}.sblc a{display:block;margin:2px 0;margin-left:13px;font-size:11px}.lsbb{background:#eee;border:solid 1px;border-color:#ccc #999 #999 #ccc;height:30px}.lsbb{display:block}#fll a{display:inline-block;margin:0 12px}.lsb{background:url(/images/nav_logo229.png) 0 -261px repeat-x;border:none;color:#000;cursor:pointer;height:30px;margin:0;outline:0;font:15px arial,sans-serif;vertical-align:top}.lsb:active{background:#ccc}.lst:focus{outline:none}.tiah{width:458px}\n",
      "  </style>\n",
      "  <script nonce=\"czqffbYxopmQBwCsZb/yeQ==\">\n",
      "  </script>\n",
      " </head>\n",
      " <body bgcolor=\"#fff\">\n",
      "  <script nonce=\"czqffbYxopmQBwCsZb/yeQ==\">\n",
      "   (function(){var src='/images/nav_logo229.png';var iesg=false;document.body.onload = function(){window.n && window.n();if (document.images){new Image().src=src;}\n",
      "if (!iesg){document.f&&document.f.q.focus();document.gbqf&&document.gbqf.q.focus();}\n",
      "}\n",
      "})();\n",
      "  </script>\n",
      "  <div id=\"mngb\">\n",
      "   <div id=\"gbar\">\n",
      "    <nobr>\n",
      "     <b class=\"gb1\">\n",
      "      Поиск\n",
      "     </b>\n",
      "     <a class=\"gb1\" href=\"https://www.google.ru/imghp?hl=ru&amp;tab=wi\">\n",
      "      Картинки\n",
      "     </a>\n",
      "     <a class=\"gb1\" href=\"https://maps.google.ru/maps?hl=ru&amp;tab=wl\">\n",
      "      Карты\n",
      "     </a>\n",
      "     <a class=\"gb1\" href=\"https://play.google.com/?hl=ru&amp;tab=w8\">\n",
      "      Play\n",
      "     </a>\n",
      "     <a class=\"gb1\" href=\"https://www.youtube.com/?gl=RU&amp;tab=w1\">\n",
      "      YouTube\n",
      "     </a>\n",
      "     <a class=\"gb1\" href=\"https://news.google.ru/nwshp?hl=ru&amp;tab=wn\">\n",
      "      Новости\n",
      "     </a>\n",
      "     <a class=\"gb1\" href=\"https://mail.google.com/mail/?tab=wm\">\n",
      "      Почта\n",
      "     </a>\n",
      "     <a class=\"gb1\" href=\"https://drive.google.com/?tab=wo\">\n",
      "      Диск\n",
      "     </a>\n",
      "     <a class=\"gb1\" href=\"https://www.google.ru/intl/ru/about/products?tab=wh\" style=\"text-decoration:none\">\n",
      "      <u>\n",
      "       Ещё\n",
      "      </u>\n",
      "      »\n",
      "     </a>\n",
      "    </nobr>\n",
      "   </div>\n",
      "   <div id=\"guser\" width=\"100%\">\n",
      "    <nobr>\n",
      "     <span class=\"gbi\" id=\"gbn\">\n",
      "     </span>\n",
      "     <span class=\"gbf\" id=\"gbf\">\n",
      "     </span>\n",
      "     <span id=\"gbe\">\n",
      "     </span>\n",
      "     <a class=\"gb4\" href=\"http://www.google.ru/history/optout?hl=ru\">\n",
      "      История веб-поиска\n",
      "     </a>\n",
      "     |\n",
      "     <a class=\"gb4\" href=\"/preferences?hl=ru\">\n",
      "      Настройки\n",
      "     </a>\n",
      "     |\n",
      "     <a class=\"gb4\" href=\"https://accounts.google.com/ServiceLogin?hl=ru&amp;passive=true&amp;continue=https://www.google.com/%3FUser-Agent%3DMozilla%252F5.0%2B%2528X11%253B%2BUbuntu%253B%2BLinux%2Bx86_64%253B%2Brv%253A52.0%2529%2BGecko%252F20100101%2BFirefox%252F69.0%26Accept-Encoding%3Dgzip%252C%2Bdeflate%26Accept%3D%252A%252F%252A%26Connection%3Dkeep-alive\" id=\"gb_70\" target=\"_top\">\n",
      "      Войти\n",
      "     </a>\n",
      "    </nobr>\n",
      "   </div>\n",
      "   <div class=\"gbh\" style=\"left:0\">\n",
      "   </div>\n",
      "   <div class=\"gbh\" style=\"right:0\">\n",
      "   </div>\n",
      "  </div>\n",
      "  <center>\n",
      "   <br clear=\"all\" id=\"lgpd\"/>\n",
      "   <div id=\"lga\">\n",
      "    <img alt=\"Google\" height=\"92\" id=\"hplogo\" src=\"/images/branding/googlelogo/1x/googlelogo_white_background_color_272x92dp.png\" style=\"padding:28px 0 14px\" width=\"272\"/>\n",
      "    <br/>\n",
      "    <br/>\n",
      "   </div>\n",
      "   <form action=\"/search\" name=\"f\">\n",
      "    <table cellpadding=\"0\" cellspacing=\"0\">\n",
      "     <tr valign=\"top\">\n",
      "      <td width=\"25%\">\n",
      "      </td>\n",
      "      <td align=\"center\" nowrap=\"\">\n",
      "       <input name=\"ie\" type=\"hidden\" value=\"ISO-8859-1\"/>\n",
      "       <input name=\"hl\" type=\"hidden\" value=\"ru\"/>\n",
      "       <input name=\"source\" type=\"hidden\" value=\"hp\"/>\n",
      "       <input name=\"biw\" type=\"hidden\"/>\n",
      "       <input name=\"bih\" type=\"hidden\"/>\n",
      "       <div class=\"ds\" style=\"height:32px;margin:4px 0\">\n",
      "        <div style=\"position:relative;zoom:1\">\n",
      "         <input autocomplete=\"off\" class=\"lst tiah\" maxlength=\"2048\" name=\"q\" size=\"57\" style=\"margin:0;padding:5px 8px 0 6px;vertical-align:top;color:#000;padding-right:38px\" title=\"Поиск в Google\" value=\"\"/>\n",
      "         <img alt=\"\" data-script-url=\"/textinputassistant/11/ru_tia.js\" height=\"23\" id=\"tsuid1\" src=\"/textinputassistant/tia.png\" style=\"position:absolute;cursor:pointer;right:5px;top:4px;z-index:300\" width=\"27\"/>\n",
      "         <script nonce=\"czqffbYxopmQBwCsZb/yeQ==\">\n",
      "          (function(){var id='tsuid1';document.getElementById(id).onclick = function(){var s = document.createElement('script');s.src = this.getAttribute('data-script-url');(document.getElementById('xjsc')||document.body).appendChild(s);};})();\n",
      "         </script>\n",
      "        </div>\n",
      "       </div>\n",
      "       <br style=\"line-height:0\"/>\n",
      "       <span class=\"ds\">\n",
      "        <span class=\"lsbb\">\n",
      "         <input class=\"lsb\" name=\"btnG\" type=\"submit\" value=\"Поиск в Google\"/>\n",
      "        </span>\n",
      "       </span>\n",
      "       <span class=\"ds\">\n",
      "        <span class=\"lsbb\">\n",
      "         <input class=\"lsb\" id=\"tsuid2\" name=\"btnI\" type=\"submit\" value=\"Мне повезёт!\"/>\n",
      "         <script nonce=\"czqffbYxopmQBwCsZb/yeQ==\">\n",
      "          (function(){var id='tsuid2';document.getElementById(id).onclick = function(){if (this.form.q.value){this.checked = 1;if (this.form.iflsig)this.form.iflsig.disabled = false;}\n",
      "else top.location='/doodles/';};})();\n",
      "         </script>\n",
      "         <input name=\"iflsig\" type=\"hidden\" value=\"AINFCbYAAAAAXvNKpyYi9GcGHQgpfpv5A5-pxsmnFlcp\"/>\n",
      "        </span>\n",
      "       </span>\n",
      "      </td>\n",
      "      <td align=\"left\" class=\"fl sblc\" nowrap=\"\" width=\"25%\">\n",
      "       <a href=\"/advanced_search?hl=ru&amp;authuser=0\">\n",
      "        Расширенный поиск\n",
      "       </a>\n",
      "      </td>\n",
      "     </tr>\n",
      "    </table>\n",
      "    <input id=\"gbv\" name=\"gbv\" type=\"hidden\" value=\"1\"/>\n",
      "    <script nonce=\"czqffbYxopmQBwCsZb/yeQ==\">\n",
      "     (function(){var a,b=\"1\";if(document&&document.getElementById)if(\"undefined\"!=typeof XMLHttpRequest)b=\"2\";else if(\"undefined\"!=typeof ActiveXObject){var c,d,e=[\"MSXML2.XMLHTTP.6.0\",\"MSXML2.XMLHTTP.3.0\",\"MSXML2.XMLHTTP\",\"Microsoft.XMLHTTP\"];for(c=0;d=e[c++];)try{new ActiveXObject(d),b=\"2\"}catch(h){}}a=b;if(\"2\"==a&&-1==location.search.indexOf(\"&gbv=2\")){var f=google.gbvu,g=document.getElementById(\"gbv\");g&&(g.value=a);f&&window.setTimeout(function(){location.href=f},0)};}).call(this);\n",
      "    </script>\n",
      "   </form>\n",
      "   <div id=\"gac_scont\">\n",
      "   </div>\n",
      "   <div style=\"font-size:83%;min-height:3.5em\">\n",
      "    <br/>\n",
      "   </div>\n",
      "   <span id=\"footer\">\n",
      "    <div style=\"font-size:10pt\">\n",
      "     <div id=\"fll\" style=\"margin:19px auto;text-align:center\">\n",
      "      <a href=\"/intl/ru/ads/\">\n",
      "       Рекламные программы\n",
      "      </a>\n",
      "      <a href=\"http://www.google.ru/intl/ru/services/\">\n",
      "       Решения для бизнеса\n",
      "      </a>\n",
      "      <a href=\"/intl/ru/about.html\">\n",
      "       Всё о Google\n",
      "      </a>\n",
      "      <a href=\"https://www.google.com/setprefdomain?prefdom=RU&amp;prev=https://www.google.ru/&amp;sig=K_8Ov7kWGVBo8VDrGEjBd6gwg3ul0%3D\">\n",
      "       Google.ru\n",
      "      </a>\n",
      "     </div>\n",
      "    </div>\n",
      "    <p style=\"font-size:8pt;color:#767676\">\n",
      "     © 2020 -\n",
      "     <a href=\"/intl/ru/policies/privacy/\">\n",
      "      Конфиденциальность\n",
      "     </a>\n",
      "     -\n",
      "     <a href=\"/intl/ru/policies/terms/\">\n",
      "      Условия\n",
      "     </a>\n",
      "    </p>\n",
      "   </span>\n",
      "  </center>\n",
      "  <script nonce=\"czqffbYxopmQBwCsZb/yeQ==\">\n",
      "   (function(){window.google.cdo={height:0,width:0};(function(){var a=window.innerWidth,b=window.innerHeight;if(!a||!b){var c=window.document,d=\"CSS1Compat\"==c.compatMode?c.documentElement:c.body;a=d.clientWidth;b=d.clientHeight}a&&b&&(a!=google.cdo.width||b!=google.cdo.height)&&google.log(\"\",\"\",\"/client_204?&atyp=i&biw=\"+a+\"&bih=\"+b+\"&ei=\"+google.kEI);}).call(this);})();(function(){var u='/xjs/_/js/k\\x3dxjs.hp.en.S78AeCphTHQ.O/m\\x3dsb_he,d/am\\x3dAE-wOQ/d\\x3d1/rs\\x3dACT90oFzOony-PCBG1PkXCLAaKHCjE9qcg';\n",
      "setTimeout(function(){var b=document;var a=\"SCRIPT\";\"application/xhtml+xml\"===b.contentType&&(a=a.toLowerCase());a=b.createElement(a);a.src=u;google.timers&&google.timers.load&&google.tick&&google.tick(\"load\",\"xjsls\");document.body.appendChild(a)},0);})();(function(){window.google.xjsu='/xjs/_/js/k\\x3dxjs.hp.en.S78AeCphTHQ.O/m\\x3dsb_he,d/am\\x3dAE-wOQ/d\\x3d1/rs\\x3dACT90oFzOony-PCBG1PkXCLAaKHCjE9qcg';})();function _DumpException(e){throw e;}\n",
      "function _F_installCss(c){}\n",
      "(function(){google.jl={dw:false,em:[],emw:false,lls:'default',pdt:0,snet:true,uwp:true};})();(function(){var pmc='{\\x22d\\x22:{},\\x22sb_he\\x22:{\\x22agen\\x22:true,\\x22cgen\\x22:true,\\x22client\\x22:\\x22heirloom-hp\\x22,\\x22dh\\x22:true,\\x22dhqt\\x22:true,\\x22ds\\x22:\\x22\\x22,\\x22ffql\\x22:\\x22ru\\x22,\\x22fl\\x22:true,\\x22host\\x22:\\x22google.com\\x22,\\x22isbh\\x22:28,\\x22jsonp\\x22:true,\\x22msgs\\x22:{\\x22cibl\\x22:\\x22&#1059;&#1076;&#1072;&#1083;&#1080;&#1090;&#1100; &#1087;&#1086;&#1080;&#1089;&#1082;&#1086;&#1074;&#1099;&#1081; &#1079;&#1072;&#1087;&#1088;&#1086;&#1089;\\x22,\\x22dym\\x22:\\x22&#1042;&#1086;&#1079;&#1084;&#1086;&#1078;&#1085;&#1086;, &#1074;&#1099; &#1080;&#1084;&#1077;&#1083;&#1080; &#1074; &#1074;&#1080;&#1076;&#1091;:\\x22,\\x22lcky\\x22:\\x22&#1052;&#1085;&#1077; &#1087;&#1086;&#1074;&#1077;&#1079;&#1105;&#1090;!\\x22,\\x22lml\\x22:\\x22&#1055;&#1086;&#1076;&#1088;&#1086;&#1073;&#1085;&#1077;&#1077;...\\x22,\\x22oskt\\x22:\\x22&#1069;&#1082;&#1088;&#1072;&#1085;&#1085;&#1072;&#1103; &#1082;&#1083;&#1072;&#1074;&#1080;&#1072;&#1090;&#1091;&#1088;&#1072;\\x22,\\x22psrc\\x22:\\x22&#1069;&#1090;&#1086;&#1090; &#1079;&#1072;&#1087;&#1088;&#1086;&#1089; &#1073;&#1099;&#1083; &#1091;&#1076;&#1072;&#1083;&#1077;&#1085; &#1080;&#1079; &#1074;&#1072;&#1096;&#1077;&#1081; \\\\u003Ca href\\x3d\\\\\\x22/history\\\\\\x22\\\\u003E&#1080;&#1089;&#1090;&#1086;&#1088;&#1080;&#1080; &#1074;&#1077;&#1073;-&#1087;&#1086;&#1080;&#1089;&#1082;&#1072;\\\\u003C/a\\\\u003E\\x22,\\x22psrl\\x22:\\x22&#1059;&#1076;&#1072;&#1083;&#1080;&#1090;&#1100;\\x22,\\x22sbit\\x22:\\x22&#1055;&#1086;&#1080;&#1089;&#1082; &#1087;&#1086; &#1082;&#1072;&#1088;&#1090;&#1080;&#1085;&#1082;&#1077;\\x22,\\x22srch\\x22:\\x22&#1055;&#1086;&#1080;&#1089;&#1082; &#1074; Google\\x22},\\x22ovr\\x22:{},\\x22pq\\x22:\\x22\\x22,\\x22refpd\\x22:true,\\x22rfs\\x22:[],\\x22sbpl\\x22:16,\\x22sbpr\\x22:16,\\x22scd\\x22:10,\\x22stok\\x22:\\x22Ii7bYJFI1epIb6HZ6OeiUQ5rU-o\\x22,\\x22uhde\\x22:false}}';google.pmc=JSON.parse(pmc);})();\n",
      "  </script>\n",
      " </body>\n",
      "</html>\n"
     ]
    }
   ],
   "source": [
    "# Парсим код html страницы Google\n",
    "url = \"https://google.com\"\n",
    "req = requests.get(url, headers)\n",
    "soup = BeautifulSoup(req.content, 'lxml')\n",
    "print(soup.prettify()) # prettify() служит для более понятного отображения данных"
   ]
  },
  {
   "cell_type": "code",
   "execution_count": 18,
   "metadata": {},
   "outputs": [
    {
     "name": "stdout",
     "output_type": "stream",
     "text": [
      "https://www.google.ru/imghp?hl=ru&tab=wi\n",
      "https://maps.google.ru/maps?hl=ru&tab=wl\n",
      "https://play.google.com/?hl=ru&tab=w8\n",
      "https://www.youtube.com/?gl=RU&tab=w1\n",
      "https://news.google.ru/nwshp?hl=ru&tab=wn\n",
      "https://mail.google.com/mail/?tab=wm\n",
      "https://drive.google.com/?tab=wo\n",
      "https://www.google.ru/intl/ru/about/products?tab=wh\n",
      "http://www.google.ru/history/optout?hl=ru\n",
      "/preferences?hl=ru\n",
      "https://accounts.google.com/ServiceLogin?hl=ru&passive=true&continue=https://www.google.com/%3FUser-Agent%3DMozilla%252F5.0%2B%2528X11%253B%2BUbuntu%253B%2BLinux%2Bx86_64%253B%2Brv%253A52.0%2529%2BGecko%252F20100101%2BFirefox%252F69.0%26Accept-Encoding%3Dgzip%252C%2Bdeflate%26Accept%3D%252A%252F%252A%26Connection%3Dkeep-alive\n",
      "/advanced_search?hl=ru&authuser=0\n",
      "/intl/ru/ads/\n",
      "http://www.google.ru/intl/ru/services/\n",
      "/intl/ru/about.html\n",
      "https://www.google.com/setprefdomain?prefdom=RU&prev=https://www.google.ru/&sig=K_8Ov7kWGVBo8VDrGEjBd6gwg3ul0%3D\n",
      "/intl/ru/policies/privacy/\n",
      "/intl/ru/policies/terms/\n"
     ]
    }
   ],
   "source": [
    "variable = soup.find_all('a') #получаем вообще все, что связано с тегом <a>\n",
    "for tag in variable: #и теперь по этому списку идем, получая адреса ссылок\n",
    "    print(tag.get('href'))"
   ]
  },
  {
   "cell_type": "markdown",
   "metadata": {},
   "source": [
    "# Парсинг данных с сайта `quotes.toscrape.com` с помощью Spyder"
   ]
  },
  {
   "cell_type": "code",
   "execution_count": 19,
   "metadata": {},
   "outputs": [],
   "source": [
    "#!pip install scrapy"
   ]
  },
  {
   "cell_type": "code",
   "execution_count": 20,
   "metadata": {},
   "outputs": [],
   "source": [
    "from IPython.core.interactiveshell import InteractiveShell\n",
    "InteractiveShell.ast_node_interactivity = \"all\""
   ]
  },
  {
   "cell_type": "markdown",
   "metadata": {},
   "source": [
    "### Импортируем Scrapy"
   ]
  },
  {
   "cell_type": "code",
   "execution_count": 21,
   "metadata": {},
   "outputs": [],
   "source": [
    "import scrapy \n",
    "from scrapy.crawler import CrawlerProcess"
   ]
  },
  {
   "cell_type": "code",
   "execution_count": 22,
   "metadata": {},
   "outputs": [],
   "source": [
    "import json\n",
    "\n",
    "class JsonWriterPipeline(object):\n",
    "\n",
    "    def open_spider(self, spider):\n",
    "        self.file = open('quoteresult.jl', 'w')\n",
    "\n",
    "    def close_spider(self, spider):\n",
    "        self.file.close()\n",
    "\n",
    "    def process_item(self, item, spider):\n",
    "        line = json.dumps(dict(item)) + \"\\n\"\n",
    "        self.file.write(line)\n",
    "        return item"
   ]
  },
  {
   "cell_type": "markdown",
   "metadata": {},
   "source": [
    "### Устанавливаем пайплайн\n",
    "\n",
    "Этот класс создает пайплайн, который записывает все найденные объекты в JSON файл, где каждая строка содержит один элемент."
   ]
  },
  {
   "cell_type": "code",
   "execution_count": 23,
   "metadata": {},
   "outputs": [],
   "source": [
    "import json\n",
    "\n",
    "class JsonWriterPipeline(object):\n",
    "\n",
    "    def open_spider(self, spider):\n",
    "        self.file = open('quoteresult.jl', 'w')\n",
    "\n",
    "    def close_spider(self, spider):\n",
    "        self.file.close()\n",
    "\n",
    "    def process_item(self, item, spider):\n",
    "        line = json.dumps(dict(item)) + \"\\n\"\n",
    "        self.file.write(line)\n",
    "        return item"
   ]
  },
  {
   "cell_type": "markdown",
   "metadata": {},
   "source": [
    "### Определяем spider, содержащий настройки для парсинга"
   ]
  },
  {
   "cell_type": "markdown",
   "metadata": {},
   "source": [
    "Определяем откуда парсить данные, настройки для открытия, закрытия и записи данных"
   ]
  },
  {
   "cell_type": "code",
   "execution_count": 24,
   "metadata": {},
   "outputs": [],
   "source": [
    "import logging\n",
    "\n",
    "class QuotesSpider(scrapy.Spider):\n",
    "    name = \"quotes\"\n",
    "    start_urls = [\n",
    "        'http://quotes.toscrape.com/page/1/',\n",
    "        'http://quotes.toscrape.com/page/2/',\n",
    "    ]\n",
    "    custom_settings = {\n",
    "        'LOG_LEVEL': logging.WARNING,\n",
    "        'ITEM_PIPELINES': {'__main__.JsonWriterPipeline': 1}, # Used for pipeline 1\n",
    "        'FEED_FORMAT':'json',                                 # Used for pipeline 2\n",
    "        'FEED_URI': 'quoteresult.json'                        # Used for pipeline 2\n",
    "    }\n",
    "    \n",
    "    def parse(self, response):\n",
    "        for quote in response.css('div.quote'):\n",
    "            yield {\n",
    "                'text': quote.css('span.text::text').extract_first(),\n",
    "                'author': quote.css('span small::text').extract_first(),\n",
    "                'tags': quote.css('div.tags a.tag::text').extract(),\n",
    "            }"
   ]
  },
  {
   "cell_type": "markdown",
   "metadata": {},
   "source": [
    "### Запускаем процесс"
   ]
  },
  {
   "cell_type": "code",
   "execution_count": 25,
   "metadata": {
    "scrolled": true
   },
   "outputs": [
    {
     "name": "stderr",
     "output_type": "stream",
     "text": [
      "2020-06-24 14:44:24 [scrapy.utils.log] INFO: Scrapy 2.1.0 started (bot: scrapybot)\n",
      "2020-06-24 14:44:24 [scrapy.utils.log] INFO: Versions: lxml 4.5.0.0, libxml2 2.9.9, cssselect 1.1.0, parsel 1.6.0, w3lib 1.22.0, Twisted 20.3.0, Python 3.7.6 (default, Jan  8 2020, 20:23:39) [MSC v.1916 64 bit (AMD64)], pyOpenSSL 19.1.0 (OpenSSL 1.1.1d  10 Sep 2019), cryptography 2.8, Platform Windows-10-10.0.18362-SP0\n",
      "2020-06-24 14:44:24 [scrapy.utils.log] DEBUG: Using reactor: twisted.internet.selectreactor.SelectReactor\n",
      "2020-06-24 14:44:24 [scrapy.crawler] INFO: Overridden settings:\n",
      "{'LOG_LEVEL': 30,\n",
      " 'USER_AGENT': 'Mozilla/4.0 (compatible; MSIE 7.0; Windows NT 5.1)'}\n",
      "2020-06-24 14:44:24 [py.warnings] WARNING: C:\\Users\\Maks\\anaconda3\\lib\\site-packages\\scrapy\\extensions\\feedexport.py:210: ScrapyDeprecationWarning: The `FEED_URI` and `FEED_FORMAT` settings have been deprecated in favor of the `FEEDS` setting. Please see the `FEEDS` setting docs for more details\n",
      "  exporter = cls(crawler)\n",
      "\n"
     ]
    },
    {
     "data": {
      "text/plain": [
       "<Deferred at 0x20b848ab948>"
      ]
     },
     "execution_count": 25,
     "metadata": {},
     "output_type": "execute_result"
    }
   ],
   "source": [
    "process = CrawlerProcess({\n",
    "    'USER_AGENT': 'Mozilla/4.0 (compatible; MSIE 7.0; Windows NT 5.1)'\n",
    "})\n",
    "\n",
    "process.crawl(QuotesSpider)\n",
    "process.start()"
   ]
  },
  {
   "cell_type": "markdown",
   "metadata": {},
   "source": [
    "После всех шагов выше, в директории появится файл `quoteresult.json`"
   ]
  },
  {
   "cell_type": "markdown",
   "metadata": {},
   "source": [
    "### Выводим содержимое этого файла с помощью библиотеки `pandas`"
   ]
  },
  {
   "cell_type": "code",
   "execution_count": 26,
   "metadata": {},
   "outputs": [
    {
     "data": {
      "text/html": [
       "<div>\n",
       "<style scoped>\n",
       "    .dataframe tbody tr th:only-of-type {\n",
       "        vertical-align: middle;\n",
       "    }\n",
       "\n",
       "    .dataframe tbody tr th {\n",
       "        vertical-align: top;\n",
       "    }\n",
       "\n",
       "    .dataframe thead th {\n",
       "        text-align: right;\n",
       "    }\n",
       "</style>\n",
       "<table border=\"1\" class=\"dataframe\">\n",
       "  <thead>\n",
       "    <tr style=\"text-align: right;\">\n",
       "      <th></th>\n",
       "      <th>text</th>\n",
       "      <th>author</th>\n",
       "      <th>tags</th>\n",
       "    </tr>\n",
       "  </thead>\n",
       "  <tbody>\n",
       "    <tr>\n",
       "      <th>0</th>\n",
       "      <td>“This life is what you make it. No matter what...</td>\n",
       "      <td>Marilyn Monroe</td>\n",
       "      <td>[friends, heartbreak, inspirational, life, lov...</td>\n",
       "    </tr>\n",
       "    <tr>\n",
       "      <th>1</th>\n",
       "      <td>“It takes a great deal of bravery to stand up ...</td>\n",
       "      <td>J.K. Rowling</td>\n",
       "      <td>[courage, friends]</td>\n",
       "    </tr>\n",
       "    <tr>\n",
       "      <th>2</th>\n",
       "      <td>“If you can't explain it to a six year old, yo...</td>\n",
       "      <td>Albert Einstein</td>\n",
       "      <td>[simplicity, understand]</td>\n",
       "    </tr>\n",
       "    <tr>\n",
       "      <th>3</th>\n",
       "      <td>“You may not be her first, her last, or her on...</td>\n",
       "      <td>Bob Marley</td>\n",
       "      <td>[love]</td>\n",
       "    </tr>\n",
       "    <tr>\n",
       "      <th>4</th>\n",
       "      <td>“I like nonsense, it wakes up the brain cells....</td>\n",
       "      <td>Dr. Seuss</td>\n",
       "      <td>[fantasy]</td>\n",
       "    </tr>\n",
       "    <tr>\n",
       "      <th>5</th>\n",
       "      <td>“I may not have gone where I intended to go, b...</td>\n",
       "      <td>Douglas Adams</td>\n",
       "      <td>[life, navigation]</td>\n",
       "    </tr>\n",
       "    <tr>\n",
       "      <th>6</th>\n",
       "      <td>“The opposite of love is not hate, it's indiff...</td>\n",
       "      <td>Elie Wiesel</td>\n",
       "      <td>[activism, apathy, hate, indifference, inspira...</td>\n",
       "    </tr>\n",
       "    <tr>\n",
       "      <th>7</th>\n",
       "      <td>“It is not a lack of love, but a lack of frien...</td>\n",
       "      <td>Friedrich Nietzsche</td>\n",
       "      <td>[friendship, lack-of-friendship, lack-of-love,...</td>\n",
       "    </tr>\n",
       "    <tr>\n",
       "      <th>8</th>\n",
       "      <td>“Good friends, good books, and a sleepy consci...</td>\n",
       "      <td>Mark Twain</td>\n",
       "      <td>[books, contentment, friends, friendship, life]</td>\n",
       "    </tr>\n",
       "    <tr>\n",
       "      <th>9</th>\n",
       "      <td>“Life is what happens to us while we are makin...</td>\n",
       "      <td>Allen Saunders</td>\n",
       "      <td>[fate, life, misattributed-john-lennon, planni...</td>\n",
       "    </tr>\n",
       "    <tr>\n",
       "      <th>10</th>\n",
       "      <td>“The world as we have created it is a process ...</td>\n",
       "      <td>Albert Einstein</td>\n",
       "      <td>[change, deep-thoughts, thinking, world]</td>\n",
       "    </tr>\n",
       "    <tr>\n",
       "      <th>11</th>\n",
       "      <td>“It is our choices, Harry, that show what we t...</td>\n",
       "      <td>J.K. Rowling</td>\n",
       "      <td>[abilities, choices]</td>\n",
       "    </tr>\n",
       "    <tr>\n",
       "      <th>12</th>\n",
       "      <td>“There are only two ways to live your life. On...</td>\n",
       "      <td>Albert Einstein</td>\n",
       "      <td>[inspirational, life, live, miracle, miracles]</td>\n",
       "    </tr>\n",
       "    <tr>\n",
       "      <th>13</th>\n",
       "      <td>“The person, be it gentleman or lady, who has ...</td>\n",
       "      <td>Jane Austen</td>\n",
       "      <td>[aliteracy, books, classic, humor]</td>\n",
       "    </tr>\n",
       "    <tr>\n",
       "      <th>14</th>\n",
       "      <td>“Imperfection is beauty, madness is genius and...</td>\n",
       "      <td>Marilyn Monroe</td>\n",
       "      <td>[be-yourself, inspirational]</td>\n",
       "    </tr>\n",
       "    <tr>\n",
       "      <th>15</th>\n",
       "      <td>“Try not to become a man of success. Rather be...</td>\n",
       "      <td>Albert Einstein</td>\n",
       "      <td>[adulthood, success, value]</td>\n",
       "    </tr>\n",
       "    <tr>\n",
       "      <th>16</th>\n",
       "      <td>“It is better to be hated for what you are tha...</td>\n",
       "      <td>André Gide</td>\n",
       "      <td>[life, love]</td>\n",
       "    </tr>\n",
       "    <tr>\n",
       "      <th>17</th>\n",
       "      <td>“I have not failed. I've just found 10,000 way...</td>\n",
       "      <td>Thomas A. Edison</td>\n",
       "      <td>[edison, failure, inspirational, paraphrased]</td>\n",
       "    </tr>\n",
       "    <tr>\n",
       "      <th>18</th>\n",
       "      <td>“A woman is like a tea bag; you never know how...</td>\n",
       "      <td>Eleanor Roosevelt</td>\n",
       "      <td>[misattributed-eleanor-roosevelt]</td>\n",
       "    </tr>\n",
       "    <tr>\n",
       "      <th>19</th>\n",
       "      <td>“A day without sunshine is like, you know, nig...</td>\n",
       "      <td>Steve Martin</td>\n",
       "      <td>[humor, obvious, simile]</td>\n",
       "    </tr>\n",
       "  </tbody>\n",
       "</table>\n",
       "</div>"
      ],
      "text/plain": [
       "                                                 text               author  \\\n",
       "0   “This life is what you make it. No matter what...       Marilyn Monroe   \n",
       "1   “It takes a great deal of bravery to stand up ...         J.K. Rowling   \n",
       "2   “If you can't explain it to a six year old, yo...      Albert Einstein   \n",
       "3   “You may not be her first, her last, or her on...           Bob Marley   \n",
       "4   “I like nonsense, it wakes up the brain cells....            Dr. Seuss   \n",
       "5   “I may not have gone where I intended to go, b...        Douglas Adams   \n",
       "6   “The opposite of love is not hate, it's indiff...          Elie Wiesel   \n",
       "7   “It is not a lack of love, but a lack of frien...  Friedrich Nietzsche   \n",
       "8   “Good friends, good books, and a sleepy consci...           Mark Twain   \n",
       "9   “Life is what happens to us while we are makin...       Allen Saunders   \n",
       "10  “The world as we have created it is a process ...      Albert Einstein   \n",
       "11  “It is our choices, Harry, that show what we t...         J.K. Rowling   \n",
       "12  “There are only two ways to live your life. On...      Albert Einstein   \n",
       "13  “The person, be it gentleman or lady, who has ...          Jane Austen   \n",
       "14  “Imperfection is beauty, madness is genius and...       Marilyn Monroe   \n",
       "15  “Try not to become a man of success. Rather be...      Albert Einstein   \n",
       "16  “It is better to be hated for what you are tha...           André Gide   \n",
       "17  “I have not failed. I've just found 10,000 way...     Thomas A. Edison   \n",
       "18  “A woman is like a tea bag; you never know how...    Eleanor Roosevelt   \n",
       "19  “A day without sunshine is like, you know, nig...         Steve Martin   \n",
       "\n",
       "                                                 tags  \n",
       "0   [friends, heartbreak, inspirational, life, lov...  \n",
       "1                                  [courage, friends]  \n",
       "2                            [simplicity, understand]  \n",
       "3                                              [love]  \n",
       "4                                           [fantasy]  \n",
       "5                                  [life, navigation]  \n",
       "6   [activism, apathy, hate, indifference, inspira...  \n",
       "7   [friendship, lack-of-friendship, lack-of-love,...  \n",
       "8     [books, contentment, friends, friendship, life]  \n",
       "9   [fate, life, misattributed-john-lennon, planni...  \n",
       "10           [change, deep-thoughts, thinking, world]  \n",
       "11                               [abilities, choices]  \n",
       "12     [inspirational, life, live, miracle, miracles]  \n",
       "13                 [aliteracy, books, classic, humor]  \n",
       "14                       [be-yourself, inspirational]  \n",
       "15                        [adulthood, success, value]  \n",
       "16                                       [life, love]  \n",
       "17      [edison, failure, inspirational, paraphrased]  \n",
       "18                  [misattributed-eleanor-roosevelt]  \n",
       "19                           [humor, obvious, simile]  "
      ]
     },
     "execution_count": 26,
     "metadata": {},
     "output_type": "execute_result"
    }
   ],
   "source": [
    "import pandas as pd\n",
    "dfjson = pd.read_json('quoteresult.json')\n",
    "dfjson"
   ]
  }
 ],
 "metadata": {
  "kernelspec": {
   "display_name": "Python 3",
   "language": "python",
   "name": "python3"
  },
  "language_info": {
   "codemirror_mode": {
    "name": "ipython",
    "version": 3
   },
   "file_extension": ".py",
   "mimetype": "text/x-python",
   "name": "python",
   "nbconvert_exporter": "python",
   "pygments_lexer": "ipython3",
   "version": "3.7.6"
  }
 },
 "nbformat": 4,
 "nbformat_minor": 4
}
